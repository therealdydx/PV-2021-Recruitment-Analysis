{
 "cells": [
  {
   "cell_type": "markdown",
   "metadata": {},
   "source": [
    "# PV Influencer Analysis\n",
    "\n",
    "Simple script to determine who is the best influencer in PV."
   ]
  },
  {
   "cell_type": "code",
   "execution_count": null,
   "metadata": {},
   "outputs": [],
   "source": [
    "import numpy as np\n",
    "import pandas as pd\n",
    "import statsmodels.api as sm\n",
    "import math\n",
    "import matplotlib.pyplot as plt\n",
    "from scipy import stats\n",
    "from statsmodels.graphics.regressionplots import abline_plot"
   ]
  },
  {
   "cell_type": "code",
   "execution_count": null,
   "metadata": {},
   "outputs": [],
   "source": [
    "recruitment = pd.read_csv(\"recruitment2.csv\")"
   ]
  },
  {
   "cell_type": "code",
   "execution_count": null,
   "metadata": {
    "scrolled": true
   },
   "outputs": [],
   "source": [
    "# drop na values here to make life easier later\n",
    "recruitment = recruitment.dropna(subset = ['3a) If you know anyone from Protégé Ventures, please select their name(s) here!'])\n",
    "\n",
    "# now change the values into a list\n",
    "influencer = recruitment['3a) If you know anyone from Protégé Ventures, please select their name(s) here!'].values.tolist()"
   ]
  },
  {
   "cell_type": "markdown",
   "metadata": {},
   "source": [
    "Clean the list to remove nan values:"
   ]
  },
  {
   "cell_type": "code",
   "execution_count": null,
   "metadata": {
    "scrolled": true
   },
   "outputs": [],
   "source": [
    "# now change all the values to lowercase and remove spaces\n",
    "for value in range(len(influencer)):\n",
    "    # changing all to lowercase\n",
    "    influencer[value] = influencer[value].lower()\n",
    "    # removing whitespaces\n",
    "    influencer[value] = influencer[value].replace(\" \", \"\")"
   ]
  },
  {
   "cell_type": "code",
   "execution_count": null,
   "metadata": {
    "scrolled": true
   },
   "outputs": [],
   "source": [
    "# now remove random nil values\n",
    "for value in influencer:\n",
    "    \n",
    "    if str(value) == '-':\n",
    "        influencer.remove(value)\n",
    "        \n",
    "    elif value == 'nil':\n",
    "        influencer.remove(value)\n",
    "        \n",
    "    elif value == '...':\n",
    "        influencer.remove(value)\n",
    "    \n",
    "    elif value == \"no):\":\n",
    "        influencer.remove(value)\n",
    "        \n",
    "    elif value == \"n/a.\":\n",
    "        influencer.remove(value)\n",
    "    \n",
    "    elif value == \"none\":\n",
    "        influencer.remove(value)\n",
    "        \n",
    "    elif value == 'nil.':\n",
    "        influencer.remove(value)"
   ]
  },
  {
   "cell_type": "code",
   "execution_count": null,
   "metadata": {},
   "outputs": [],
   "source": [
    "namelist = []\n",
    "\n",
    "for name in influencer:\n",
    "    \n",
    "    name = name.split(\",\")\n",
    "    namelist.extend(name)"
   ]
  },
  {
   "cell_type": "code",
   "execution_count": null,
   "metadata": {},
   "outputs": [],
   "source": [
    "nametable = []\n",
    "\n",
    "for name in namelist:\n",
    "    # if the name is already in nametable just move on\n",
    "    if name in nametable:\n",
    "        # then continue\n",
    "        continue\n",
    "    # else if dont have\n",
    "    else:\n",
    "        # append name to nametable\n",
    "        nametable.append(name)         \n",
    "# create a dictionary from the names\n",
    "name_table = dict.fromkeys(nametable)"
   ]
  },
  {
   "cell_type": "code",
   "execution_count": null,
   "metadata": {},
   "outputs": [],
   "source": [
    "name_table"
   ]
  },
  {
   "cell_type": "code",
   "execution_count": null,
   "metadata": {},
   "outputs": [],
   "source": [
    "namelist"
   ]
  },
  {
   "cell_type": "code",
   "execution_count": null,
   "metadata": {},
   "outputs": [],
   "source": [
    "# use the name list as a loop to check \n",
    "for i in name_table:\n",
    "    # initialize a count \n",
    "    count = 0\n",
    "    # now use this loop to check the table name and the namelist if it matches\n",
    "    for names in namelist:\n",
    "        # now if the name equals the name in the table\n",
    "        if i == names:\n",
    "            # add to the count value\n",
    "            count = count + 1\n",
    "    # add the final count to the dictionary\n",
    "    name_table[i] = count\n",
    "\n",
    "name_table"
   ]
  },
  {
   "cell_type": "code",
   "execution_count": null,
   "metadata": {},
   "outputs": [],
   "source": [
    "finaltable = pd.DataFrame([name_table])\n",
    "finaltable = finaltable.transpose().reset_index()\n",
    "finaltable.columns = ['name', 'count']"
   ]
  },
  {
   "cell_type": "code",
   "execution_count": null,
   "metadata": {},
   "outputs": [],
   "source": [
    "finaltable"
   ]
  },
  {
   "cell_type": "code",
   "execution_count": null,
   "metadata": {},
   "outputs": [],
   "source": [
    "finaltable.to_csv(r'C:\\Users\\User\\OneDrive\\Documents\\Student Life\\Protege Ventures\\Data Science\\Recruitment\\influencers.csv', index = False)"
   ]
  }
 ],
 "metadata": {
  "kernelspec": {
   "display_name": "Python 3",
   "language": "python",
   "name": "python3"
  },
  "language_info": {
   "codemirror_mode": {
    "name": "ipython",
    "version": 3
   },
   "file_extension": ".py",
   "mimetype": "text/x-python",
   "name": "python",
   "nbconvert_exporter": "python",
   "pygments_lexer": "ipython3",
   "version": "3.8.3"
  }
 },
 "nbformat": 4,
 "nbformat_minor": 4
}
