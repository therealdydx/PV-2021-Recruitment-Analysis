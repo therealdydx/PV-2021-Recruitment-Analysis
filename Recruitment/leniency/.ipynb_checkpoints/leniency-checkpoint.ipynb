{
 "cells": [
  {
   "cell_type": "markdown",
   "metadata": {},
   "source": [
    "# Recruitment Analysis\n",
    "\n",
    "A simple script to test for anomalies within recruitment."
   ]
  },
  {
   "cell_type": "markdown",
   "metadata": {},
   "source": [
    "### Importing the necessary libraries for this:"
   ]
  },
  {
   "cell_type": "code",
   "execution_count": 1,
   "metadata": {},
   "outputs": [],
   "source": [
    "import numpy as np\n",
    "import pandas as pd\n",
    "import statsmodels.api as sm\n",
    "import math\n",
    "import matplotlib.pyplot as plt\n",
    "from scipy import stats\n",
    "from statsmodels.graphics.regressionplots import abline_plot"
   ]
  },
  {
   "cell_type": "markdown",
   "metadata": {},
   "source": [
    "### Import the recruitment file:"
   ]
  },
  {
   "cell_type": "code",
   "execution_count": 2,
   "metadata": {},
   "outputs": [],
   "source": [
    "recruitment = pd.read_csv(\"recruitment.csv\")"
   ]
  },
  {
   "cell_type": "markdown",
   "metadata": {},
   "source": [
    "### Testing for those who are unable to commit 1 year to PV\n",
    "\n",
    "\n",
    "The idea is simple, just checked who did not tick yes to the commitment question in the google form."
   ]
  },
  {
   "cell_type": "markdown",
   "metadata": {},
   "source": [
    "#### Now we aim to clean the table to remove unnecessary columns for easier viewing:"
   ]
  },
  {
   "cell_type": "code",
   "execution_count": 3,
   "metadata": {},
   "outputs": [],
   "source": [
    "# dropping unnecessary columns such as tag number, year of study, graduating\n",
    "del recruitment['Tag Number']\n",
    "del recruitment['1h) As of August 2021, what year of study would you be in?']\n",
    "del recruitment['1i) Will you be graduating before Jun 2022?']"
   ]
  },
  {
   "cell_type": "markdown",
   "metadata": {},
   "source": [
    "#### We check for those that have not checked for the commitments section:"
   ]
  },
  {
   "cell_type": "code",
   "execution_count": 4,
   "metadata": {},
   "outputs": [
    {
     "data": {
      "text/plain": [
       "dtype('O')"
      ]
     },
     "execution_count": 4,
     "metadata": {},
     "output_type": "execute_result"
    }
   ],
   "source": [
    "# first let me check what is the data type for the column\n",
    "recruitment['1j) Should you be accepted into Protege Ventures, would you be able to commit to sessions on a weekly basis for the next 12 months? Sessions will be suspended during exam season.'].dtype\n",
    "\n",
    "# so it is a string basically, okay"
   ]
  },
  {
   "cell_type": "code",
   "execution_count": 5,
   "metadata": {},
   "outputs": [
    {
     "data": {
      "text/plain": [
       "0"
      ]
     },
     "execution_count": 5,
     "metadata": {},
     "output_type": "execute_result"
    }
   ],
   "source": [
    "unavailable = recruitment.loc[recruitment['1j) Should you be accepted into Protege Ventures, would you be able to commit to sessions on a weekly basis for the next 12 months? Sessions will be suspended during exam season.'] != 'checked']\n",
    "len(unavailable)"
   ]
  },
  {
   "cell_type": "markdown",
   "metadata": {},
   "source": [
    "#### Since everyone can commit to PV, seeing that there are 0 people who unchecked, this column is also unnecessary, and can be removed to save columns, together with the next column:"
   ]
  },
  {
   "cell_type": "code",
   "execution_count": 6,
   "metadata": {},
   "outputs": [],
   "source": [
    "del recruitment['1j) Should you be accepted into Protege Ventures, would you be able to commit to sessions on a weekly basis for the next 12 months? Sessions will be suspended during exam season.']\n",
    "del recruitment['1k) What other commitments might you have for the next 12 months? (ie CCA Clubs, Freelance work, etc)']"
   ]
  },
  {
   "cell_type": "markdown",
   "metadata": {},
   "source": [
    "### Test: Testing for lenient assessors\n",
    "\n",
    "This idea revolves around generating average word count for each score, for each question.\n",
    "\n",
    "I.e. for question 1, average word count for score 1, 2, 3, 4, 5 is maybe 50, 100, 150, 200, 250, through counting each word in the answer, and plotting a regression. We continue this for each question.\n",
    "\n",
    "We can see thus who tends to grade above / below the mean scores for several questions, and flag them out for being lenient.\n",
    "\n",
    "We would also need to run a hypothesis test to prove that this is the case actually, that we can in fact, use word count as a way to determine potential score one should received."
   ]
  },
  {
   "cell_type": "markdown",
   "metadata": {},
   "source": [
    "#### We need to clean up the table, so let's check what the type of the scores is, and change it to integers:"
   ]
  },
  {
   "cell_type": "code",
   "execution_count": 7,
   "metadata": {},
   "outputs": [
    {
     "data": {
      "text/plain": [
       "dtype('O')"
      ]
     },
     "execution_count": 7,
     "metadata": {},
     "output_type": "execute_result"
    }
   ],
   "source": [
    "# find a random variable\n",
    "variable = recruitment.iloc[0, [3]]\n",
    "variable.dtype"
   ]
  },
  {
   "cell_type": "code",
   "execution_count": 8,
   "metadata": {},
   "outputs": [],
   "source": [
    "# now we clean for all the columns that have scores present in them\n",
    "\n",
    "# firstly we start by creating a column list with the relevant numbers needed\n",
    "column_list = [3, 4, 6, 7, 9, 10, 12, 13, 21, 22, 24, 25]\n",
    "\n",
    "# now loop through the column:\n",
    "for index in column_list:\n",
    "    \n",
    "    # loop through each cell in each column\n",
    "    for i, row_value in recruitment.iloc[:, [index]].iterrows():\n",
    "        \n",
    "        # change the values to strings so that you can remove extra comments\n",
    "        recruitment.iloc[i, [index]] = recruitment.iloc[i, [index]].astype(str)\n",
    "        \n",
    "        # now remove any newlines from the cells\n",
    "        recruitment.iloc[i, [index]] = recruitment.iloc[i, [index]].replace('\\n','', regex=True)\n",
    "        \n",
    "        # because some scores have ranknigs attached to them, i.e. applicant 67: 2: I don't see much .... score\n",
    "        # so we have to remove this, by taking the first score attached, i.e. take 2 and filter out the rest\n",
    "        recruitment.iloc[i, [index]] = recruitment.iloc[i, [index]].str[:1]"
   ]
  },
  {
   "cell_type": "code",
   "execution_count": 9,
   "metadata": {},
   "outputs": [],
   "source": [
    "# convert the strings into integers because it doesn't work by iloc somehow    \n",
    "recruitment[recruitment.columns[column_list]] = recruitment[recruitment.columns[column_list]].apply(pd.to_numeric, errors = 'coerce')"
   ]
  },
  {
   "cell_type": "markdown",
   "metadata": {},
   "source": [
    "#### Now we try to split up each part, and create tables to store the text count for each answer of each applicant, for each question in a table:"
   ]
  },
  {
   "cell_type": "code",
   "execution_count": 10,
   "metadata": {},
   "outputs": [],
   "source": [
    "column_list = [3, 4, 6, 7, 9, 10, 12, 13, 21, 22, 24, 25]\n",
    "\n",
    "# creating the various tables for the various questions\n",
    "question_one = recruitment.iloc[:, [0, 1, 2, 3, 4]].copy()\n",
    "question_two = recruitment.iloc[:, [0, 1, 5, 6, 7]].copy()\n",
    "question_three = recruitment.iloc[:, [0, 1, 8, 9, 10]].copy()\n",
    "question_four = recruitment.iloc[:, [0, 1, 11, 12, 13]].copy()\n",
    "question_five = recruitment.iloc[:, [0, 1, 20, 21, 22]].copy()\n",
    "question_six = recruitment.iloc[:, [0, 1, 23, 24, 25]].copy()"
   ]
  },
  {
   "cell_type": "code",
   "execution_count": 11,
   "metadata": {},
   "outputs": [],
   "source": [
    "from leniency import wordcount\n",
    "\n",
    "# create a column for the word count\n",
    "question_one['WordCount'] = np.nan\n",
    "\n",
    "wordcount(question_one)"
   ]
  },
  {
   "cell_type": "markdown",
   "metadata": {},
   "source": [
    "#### More Data Cleaning! Change all assessor scores that are 0 to 1:\n",
    "\n",
    "Because apparently some people didn't read the question. It states rank from 1 - 5, not 0 - 5. So 0 and 1 scores have the same weight basically, we can just change 0 scores to 1 for those that actually read the questions properly.\n",
    "\n",
    "This will mess up the standard deviations later if not done so, so let us change the scores that are 0 to 1."
   ]
  },
  {
   "cell_type": "code",
   "execution_count": 12,
   "metadata": {},
   "outputs": [],
   "source": [
    "from leniency import cleanscores\n",
    "\n",
    "# create a loop to look through all the assessor scores and change it to 1\n",
    "weighted_score = []\n",
    "\n",
    "cleanscores(question_one)"
   ]
  },
  {
   "cell_type": "markdown",
   "metadata": {},
   "source": [
    "#### Next, let's get the average scores of each applicant, by mean of both assessors:\n",
    "\n",
    "This is important because as tested later, it is ideal that we find a variable for writing ability. Some people may write abit, but the content is lacking in actual material or quality. We need to find a variable for writing ability. \n",
    "\n",
    "Writing ability can be quantified by experience / ability to convey experience. And we can use experience in question 1I as a proxy variable to reduce this omitted variable bias, to reduce wild standard deviations in the tests later."
   ]
  },
  {
   "cell_type": "code",
   "execution_count": 13,
   "metadata": {},
   "outputs": [],
   "source": [
    "# let's get the average score of each applicant\n",
    "question_one['AverageScore'] = (question_one[\"1l Assesor A's Score (1-5)\"] + question_one[\"1l Assessor B's Score (1-5)\"]) / 2"
   ]
  },
  {
   "cell_type": "markdown",
   "metadata": {},
   "source": [
    "#### Now we need to clean up the table even more, by merging assessor A and B into the same column:\n",
    "\n",
    "The idea is to do so through copying the table into another table, removing assessor A and their scores for the first table, and then removing assessor B and their scores for the second table, and then placing assessor B table under assessor A table."
   ]
  },
  {
   "cell_type": "code",
   "execution_count": 14,
   "metadata": {},
   "outputs": [],
   "source": [
    "# get assessor A scores for the first table, aka drop assessor b scores\n",
    "question_one_a = question_one.copy()\n",
    "\n",
    "# get assessor B scores for the second table, aka drop assessor a scores\n",
    "question_one_b = question_one.copy()"
   ]
  },
  {
   "cell_type": "code",
   "execution_count": 15,
   "metadata": {},
   "outputs": [],
   "source": [
    "# now we need to drop columns of assessor B and their scores in the first table\n",
    "del question_one_a['Assesor B']\n",
    "del question_one_a[\"1l Assessor B's Score (1-5)\"]\n",
    "\n",
    "# and we also need to drop columns of assessor A and their scores in the second table\n",
    "del question_one_b['Assesor A']\n",
    "del question_one_b[\"1l Assesor A's Score (1-5)\"]"
   ]
  },
  {
   "cell_type": "code",
   "execution_count": 16,
   "metadata": {},
   "outputs": [],
   "source": [
    "# let's now change the colmnn names of table one\n",
    "question_one_a = question_one_a.rename(columns = {\"Assesor A\": \"Assessor\", \"1l Assesor A's Score (1-5)\": \"AssessorScore\"})\n",
    "\n",
    "# and let's also change the column names of table two so that we can merge the tables together\n",
    "question_one_b = question_one_b.rename(columns = {\"Assesor B\": \"Assessor\", \"1l Assessor B's Score (1-5)\": \"AssessorScore\"})\n",
    "\n",
    "# now concatenate the two values together into a table containing everybody's scores for question one\n",
    "question_one = pd.concat([question_one_a, question_one_b], axis = 0, ignore_index = True)"
   ]
  },
  {
   "cell_type": "code",
   "execution_count": 17,
   "metadata": {},
   "outputs": [
    {
     "data": {
      "text/html": [
       "<div>\n",
       "<style scoped>\n",
       "    .dataframe tbody tr th:only-of-type {\n",
       "        vertical-align: middle;\n",
       "    }\n",
       "\n",
       "    .dataframe tbody tr th {\n",
       "        vertical-align: top;\n",
       "    }\n",
       "\n",
       "    .dataframe thead th {\n",
       "        text-align: right;\n",
       "    }\n",
       "</style>\n",
       "<table border=\"1\" class=\"dataframe\">\n",
       "  <thead>\n",
       "    <tr style=\"text-align: right;\">\n",
       "      <th></th>\n",
       "      <th>AssessorScore</th>\n",
       "      <th>WordCount</th>\n",
       "      <th>AverageScore</th>\n",
       "      <th>LogCount</th>\n",
       "    </tr>\n",
       "  </thead>\n",
       "  <tbody>\n",
       "    <tr>\n",
       "      <th>0</th>\n",
       "      <td>1</td>\n",
       "      <td>1.0</td>\n",
       "      <td>1.0</td>\n",
       "      <td>0.000000</td>\n",
       "    </tr>\n",
       "    <tr>\n",
       "      <th>1</th>\n",
       "      <td>1</td>\n",
       "      <td>27.0</td>\n",
       "      <td>1.0</td>\n",
       "      <td>3.295837</td>\n",
       "    </tr>\n",
       "    <tr>\n",
       "      <th>2</th>\n",
       "      <td>1</td>\n",
       "      <td>1.0</td>\n",
       "      <td>1.0</td>\n",
       "      <td>0.000000</td>\n",
       "    </tr>\n",
       "    <tr>\n",
       "      <th>3</th>\n",
       "      <td>4</td>\n",
       "      <td>35.0</td>\n",
       "      <td>4.0</td>\n",
       "      <td>3.555348</td>\n",
       "    </tr>\n",
       "    <tr>\n",
       "      <th>4</th>\n",
       "      <td>5</td>\n",
       "      <td>38.0</td>\n",
       "      <td>5.0</td>\n",
       "      <td>3.637586</td>\n",
       "    </tr>\n",
       "    <tr>\n",
       "      <th>...</th>\n",
       "      <td>...</td>\n",
       "      <td>...</td>\n",
       "      <td>...</td>\n",
       "      <td>...</td>\n",
       "    </tr>\n",
       "    <tr>\n",
       "      <th>131</th>\n",
       "      <td>3</td>\n",
       "      <td>67.0</td>\n",
       "      <td>3.5</td>\n",
       "      <td>4.204693</td>\n",
       "    </tr>\n",
       "    <tr>\n",
       "      <th>132</th>\n",
       "      <td>2</td>\n",
       "      <td>5.0</td>\n",
       "      <td>1.5</td>\n",
       "      <td>1.609438</td>\n",
       "    </tr>\n",
       "    <tr>\n",
       "      <th>133</th>\n",
       "      <td>1</td>\n",
       "      <td>1.0</td>\n",
       "      <td>1.0</td>\n",
       "      <td>0.000000</td>\n",
       "    </tr>\n",
       "    <tr>\n",
       "      <th>134</th>\n",
       "      <td>3</td>\n",
       "      <td>17.0</td>\n",
       "      <td>2.0</td>\n",
       "      <td>2.833213</td>\n",
       "    </tr>\n",
       "    <tr>\n",
       "      <th>135</th>\n",
       "      <td>1</td>\n",
       "      <td>1.0</td>\n",
       "      <td>1.0</td>\n",
       "      <td>0.000000</td>\n",
       "    </tr>\n",
       "  </tbody>\n",
       "</table>\n",
       "<p>136 rows × 4 columns</p>\n",
       "</div>"
      ],
      "text/plain": [
       "     AssessorScore  WordCount  AverageScore  LogCount\n",
       "0                1        1.0           1.0  0.000000\n",
       "1                1       27.0           1.0  3.295837\n",
       "2                1        1.0           1.0  0.000000\n",
       "3                4       35.0           4.0  3.555348\n",
       "4                5       38.0           5.0  3.637586\n",
       "..             ...        ...           ...       ...\n",
       "131              3       67.0           3.5  4.204693\n",
       "132              2        5.0           1.5  1.609438\n",
       "133              1        1.0           1.0  0.000000\n",
       "134              3       17.0           2.0  2.833213\n",
       "135              1        1.0           1.0  0.000000\n",
       "\n",
       "[136 rows x 4 columns]"
      ]
     },
     "execution_count": 17,
     "metadata": {},
     "output_type": "execute_result"
    }
   ],
   "source": [
    "from leniency import logcount\n",
    "\n",
    "# get the question score and word count table\n",
    "q_one_scores = question_one.iloc[:, [2, 3, 4]].copy()\n",
    "\n",
    "# add logarithmic count to the word count\n",
    "logcount(q_one_scores)\n",
    "\n",
    "q_one_scores"
   ]
  },
  {
   "cell_type": "markdown",
   "metadata": {},
   "source": [
    "### Let's do a linear regression of log(word count) against the ordinal scores:\n",
    "\n",
    "Initially, wanted to run ordinal regression. On second thought, it is not necessary because scores can be quantified, and differences can also be quantified. A linear / logistic regression works fine in this case.\n",
    "\n",
    "The current equation works as follows:\n",
    "\n",
    "$ {score} = {\\beta}_{0} + {\\beta}_{j} \\:wordcount_{j} + ε $\n",
    "\n",
    "Currently the understanding for the linear regression is that:\n",
    "\n",
    "$\\hat{score} = \\hat{\\beta}_{0} + \\hat{\\beta}_{j} \\:log(wordcount_{j}) $\n",
    "\n",
    "Of course, there is the case whereby we fail to account for a variable (omitted variable bias) of experience, as well as language ability.\n",
    "\n",
    "A proxy for experience would be question one itself, asking about experience, for the next questions. As established earlier, to combat this omitted variable bias, we should use average score itself as a proxy variable.\n",
    "\n",
    "$\\hat{score} = \\hat{\\beta}_{0} + \\hat{\\beta}_{j} \\:log(wordcount _{j}) + \\hat{\\beta}_{k} \\:averagescore _{k} $"
   ]
  },
  {
   "cell_type": "code",
   "execution_count": 18,
   "metadata": {},
   "outputs": [
    {
     "data": {
      "image/png": "[encoded data removed]",
      "text/plain": [
       "<Figure size 432x288 with 1 Axes>"
      ]
     },
     "metadata": {
      "needs_background": "light"
     },
     "output_type": "display_data"
    }
   ],
   "source": [
    "# import the linear regression library from sklearn\n",
    "from sklearn.linear_model import LinearRegression\n",
    "from leniency import regressquestion\n",
    "\n",
    "# creating variables here for easier use later\n",
    "X = q_one_scores['LogCount'].values.reshape(-1, 1)\n",
    "Y = q_one_scores['AssessorScore'].values.reshape(-1, 1)\n",
    "\n",
    "regressquestion(q_one_scores)"
   ]
  },
  {
   "cell_type": "markdown",
   "metadata": {},
   "source": [
    "#### We want to get the std err variable for our calculations later on:"
   ]
  },
  {
   "cell_type": "code",
   "execution_count": 19,
   "metadata": {},
   "outputs": [],
   "source": [
    "slope, intercept, r_value, p_value, std_err = stats.linregress(X[:,0], Y[:,0])"
   ]
  },
  {
   "cell_type": "markdown",
   "metadata": {},
   "source": [
    "#### Now getting a summary of the entire statistics of the model:"
   ]
  },
  {
   "cell_type": "code",
   "execution_count": 20,
   "metadata": {},
   "outputs": [
    {
     "name": "stdout",
     "output_type": "stream",
     "text": [
      "                            OLS Regression Results                            \n",
      "==============================================================================\n",
      "Dep. Variable:                      y   R-squared:                       0.642\n",
      "Model:                            OLS   Adj. R-squared:                  0.640\n",
      "Method:                 Least Squares   F-statistic:                     240.7\n",
      "Date:                Wed, 21 Jul 2021   Prob (F-statistic):           1.03e-31\n",
      "Time:                        22:05:39   Log-Likelihood:                -183.86\n",
      "No. Observations:                 136   AIC:                             371.7\n",
      "Df Residuals:                     134   BIC:                             377.5\n",
      "Df Model:                           1                                         \n",
      "Covariance Type:            nonrobust                                         \n",
      "==============================================================================\n",
      "                 coef    std err          t      P>|t|      [0.025      0.975]\n",
      "------------------------------------------------------------------------------\n",
      "const          1.0798      0.142      7.588      0.000       0.798       1.361\n",
      "x1             0.7026      0.045     15.513      0.000       0.613       0.792\n",
      "==============================================================================\n",
      "Omnibus:                        8.790   Durbin-Watson:                   1.728\n",
      "Prob(Omnibus):                  0.012   Jarque-Bera (JB):               10.890\n",
      "Skew:                          -0.399   Prob(JB):                      0.00432\n",
      "Kurtosis:                       4.133   Cond. No.                         5.93\n",
      "==============================================================================\n",
      "\n",
      "Notes:\n",
      "[1] Standard Errors assume that the covariance matrix of the errors is correctly specified.\n"
     ]
    }
   ],
   "source": [
    "from leniency import regressionstats\n",
    "\n",
    "# find the regression statistics\n",
    "regressionstats(X, Y)"
   ]
  },
  {
   "cell_type": "markdown",
   "metadata": {},
   "source": [
    "#### Here we have two hypothesis, and need to test if the hypothesis is true:\n",
    "\n",
    "${H_{0}} : \\hat{\\beta_{j}} = 0 $ , word count does not affect scores  \n",
    "${H_{1}} : \\hat{\\beta_{j}} > 0 $ , word count affects scores"
   ]
  },
  {
   "cell_type": "markdown",
   "metadata": {},
   "source": [
    "Let's use a significance level of $ {\\alpha} = 0.01 $\n",
    "\n",
    "The coefficient of log(word count) is significantly smaller than the significance level as seen from P > t, hence word count thus affect the scores."
   ]
  },
  {
   "cell_type": "markdown",
   "metadata": {},
   "source": [
    "Thus equation is:\n",
    "\n",
    "$\\hat{score} = \\hat{1.079} + \\hat{0.7025} \\:log(wordcount_{j}) $"
   ]
  },
  {
   "cell_type": "markdown",
   "metadata": {},
   "source": [
    "#### Now find the predicted scores:"
   ]
  },
  {
   "cell_type": "code",
   "execution_count": 21,
   "metadata": {},
   "outputs": [],
   "source": [
    "from leniency import predictedscore\n",
    "\n",
    "# find the predicted score now\n",
    "predictedscore(question_one, slope, intercept)"
   ]
  },
  {
   "cell_type": "markdown",
   "metadata": {},
   "source": [
    "#### We can try using a weighted predicted score using the average scores as a baseline for accuracy:\n",
    "\n",
    "To reduce the chance of shitty answers being over-predicted."
   ]
  },
  {
   "cell_type": "code",
   "execution_count": 22,
   "metadata": {
    "scrolled": true
   },
   "outputs": [],
   "source": [
    "from leniency import weightedscore\n",
    "\n",
    "# now to get the weighted score\n",
    "weightedscore(question_one)"
   ]
  },
  {
   "cell_type": "markdown",
   "metadata": {},
   "source": [
    "#### Second algorithm for coming up with a weighted predicted score that punishes bad scores less:"
   ]
  },
  {
   "cell_type": "code",
   "execution_count": 23,
   "metadata": {},
   "outputs": [],
   "source": [
    "from leniency import adjustedscore\n",
    "\n",
    "# now to get the adjusted weighted score\n",
    "adjustedscore(question_one)"
   ]
  },
  {
   "cell_type": "markdown",
   "metadata": {},
   "source": [
    "#### We need to add the standard errors away from the assessor score, and also include average score:\n",
    "\n",
    "The point of the average scores is that, maybe both assessors think the applicant answer is shit, but apparently it got a good grading on this model because of the false assumption of word count."
   ]
  },
  {
   "cell_type": "code",
   "execution_count": 24,
   "metadata": {},
   "outputs": [],
   "source": [
    "from leniency import assessordeviation\n",
    "\n",
    "# now to get the standard deviations of the individual assessor\n",
    "assessordeviation(question_one, std_err)"
   ]
  },
  {
   "cell_type": "markdown",
   "metadata": {},
   "source": [
    "### Data Classification\n",
    "\n",
    "We can now collect the standard deviations and find averages for each person, to test their leniency / strictness."
   ]
  },
  {
   "cell_type": "code",
   "execution_count": 25,
   "metadata": {
    "scrolled": true
   },
   "outputs": [],
   "source": [
    "from leniency import namedict\n",
    "\n",
    "# now create a dictionary to store all the names and their relevant score for the particular qn\n",
    "\n",
    "# after storing all the names, immediately add it to the deviation table\n",
    "deviation_table = pd.DataFrame([namedict(question_one)])\n",
    "deviation_table = deviation_table.transpose().reset_index()\n",
    "deviation_table.columns = ['Assessor', 'q1i']"
   ]
  },
  {
   "cell_type": "markdown",
   "metadata": {},
   "source": [
    "### Now let's fill up the rest for the other questions that we have:\n",
    "\n",
    "We are just copying the same exact script for the other 5 questions so let's just simplify the entire process and remove line breaks, comments, etc."
   ]
  },
  {
   "cell_type": "code",
   "execution_count": 26,
   "metadata": {},
   "outputs": [],
   "source": [
    "# creating for all the questions' table\n",
    "question_two['WordCount'] = np.nan\n",
    "wordcount(question_two)\n",
    "    \n",
    "question_three['WordCount'] = np.nan\n",
    "wordcount(question_three)\n",
    "\n",
    "question_four['WordCount'] = np.nan\n",
    "wordcount(question_four)\n",
    "    \n",
    "question_five['WordCount'] = np.nan\n",
    "wordcount(question_five)\n",
    "\n",
    "question_six['WordCount'] = np.nan\n",
    "wordcount(question_six)"
   ]
  },
  {
   "cell_type": "code",
   "execution_count": 27,
   "metadata": {},
   "outputs": [],
   "source": [
    "# cleaning data for all the questions' table\n",
    "weighted_score = []\n",
    "cleanscores(question_two)\n",
    "\n",
    "weighted_score = []\n",
    "cleanscores(question_three)\n",
    "\n",
    "weighted_score = []\n",
    "cleanscores(question_four)\n",
    "\n",
    "weighted_score = []\n",
    "cleanscores(question_five)\n",
    "\n",
    "weighted_score = []\n",
    "cleanscores(question_six)"
   ]
  },
  {
   "cell_type": "code",
   "execution_count": 28,
   "metadata": {},
   "outputs": [],
   "source": [
    "# getting the average score for each table\n",
    "question_two['AverageScore'] = (question_two[\"2a Assesor A's Score (1-5)\"] + question_two[\"2a Assesor B's Score (1-5)\"]) / 2\n",
    "\n",
    "question_three['AverageScore'] = (question_three[\"2b Assesor A's Score (1-5)\"] + question_three[\"2b Assessor B's Score (1-5)\"]) / 2\n",
    "\n",
    "question_four['AverageScore'] = (question_four[\"2c Assesor A's Score (1-5)\"] + question_four[\"2c Assessor B's Score (1-5)\"]) / 2\n",
    "\n",
    "question_five['AverageScore'] = (question_five[\"2f Assesor A's Score (1-5)\"] + question_five[\"2f Assessor B's Score (1-5)\"]) / 2\n",
    "\n",
    "question_six['AverageScore'] = (question_six[\"2g Assesor A's Score (1-5)\"] + question_six[\"2g Assessor B's Score (1-5)\"]) / 2"
   ]
  },
  {
   "cell_type": "code",
   "execution_count": 29,
   "metadata": {},
   "outputs": [],
   "source": [
    "# necessary transformations for table 2\n",
    "question_two_a = question_two.copy()\n",
    "question_two_b = question_two.copy()\n",
    "\n",
    "del question_two_a['Assesor B']\n",
    "del question_two_a[\"2a Assesor B's Score (1-5)\"]\n",
    "del question_two_b['Assesor A']\n",
    "del question_two_b[\"2a Assesor A's Score (1-5)\"]\n",
    "\n",
    "question_two_a = question_two_a.rename(columns = {\"Assesor A\": \"Assessor\", \"2a Assesor A's Score (1-5)\": \"AssessorScore\"})\n",
    "question_two_b = question_two_b.rename(columns = {\"Assesor B\": \"Assessor\", \"2a Assesor B's Score (1-5)\": \"AssessorScore\"})\n",
    "question_two = pd.concat([question_two_a, question_two_b], axis = 0, ignore_index = True)"
   ]
  },
  {
   "cell_type": "code",
   "execution_count": 30,
   "metadata": {},
   "outputs": [],
   "source": [
    "q_two_scores = question_two.iloc[:, [2, 3, 4]].copy()\n",
    "logcount(q_two_scores)"
   ]
  },
  {
   "cell_type": "code",
   "execution_count": 31,
   "metadata": {},
   "outputs": [
    {
     "data": {
      "image/png": "[encoded data removed]",
      "text/plain": [
       "<Figure size 432x288 with 1 Axes>"
      ]
     },
     "metadata": {
      "needs_background": "light"
     },
     "output_type": "display_data"
    }
   ],
   "source": [
    "X = q_two_scores['LogCount'].values.reshape(-1, 1)\n",
    "Y = q_two_scores['AssessorScore'].values.reshape(-1, 1)\n",
    "regressquestion(q_two_scores)"
   ]
  },
  {
   "cell_type": "code",
   "execution_count": 32,
   "metadata": {},
   "outputs": [
    {
     "name": "stdout",
     "output_type": "stream",
     "text": [
      "                            OLS Regression Results                            \n",
      "==============================================================================\n",
      "Dep. Variable:                      y   R-squared:                       0.453\n",
      "Model:                            OLS   Adj. R-squared:                  0.449\n",
      "Method:                 Least Squares   F-statistic:                     111.0\n",
      "Date:                Wed, 21 Jul 2021   Prob (F-statistic):           2.83e-19\n",
      "Time:                        22:05:40   Log-Likelihood:                -200.67\n",
      "No. Observations:                 136   AIC:                             405.3\n",
      "Df Residuals:                     134   BIC:                             411.2\n",
      "Df Model:                           1                                         \n",
      "Covariance Type:            nonrobust                                         \n",
      "==============================================================================\n",
      "                 coef    std err          t      P>|t|      [0.025      0.975]\n",
      "------------------------------------------------------------------------------\n",
      "const         -0.4465      0.323     -1.383      0.169      -1.085       0.192\n",
      "x1             0.8582      0.081     10.534      0.000       0.697       1.019\n",
      "==============================================================================\n",
      "Omnibus:                       13.350   Durbin-Watson:                   1.841\n",
      "Prob(Omnibus):                  0.001   Jarque-Bera (JB):                4.826\n",
      "Skew:                          -0.118   Prob(JB):                       0.0896\n",
      "Kurtosis:                       2.108   Cond. No.                         14.8\n",
      "==============================================================================\n",
      "\n",
      "Notes:\n",
      "[1] Standard Errors assume that the covariance matrix of the errors is correctly specified.\n"
     ]
    }
   ],
   "source": [
    "regressionstats(X, Y)"
   ]
  },
  {
   "cell_type": "code",
   "execution_count": 33,
   "metadata": {},
   "outputs": [],
   "source": [
    "slope, intercept, r_value, p_value, std_err = stats.linregress(X[:,0], Y[:,0])\n",
    "\n",
    "predictedscore(question_two, slope, intercept)\n",
    "weightedscore(question_two)\n",
    "adjustedscore(question_two)\n",
    "assessordeviation(question_two, std_err)\n",
    "\n",
    "deviation_table['q2a'] = deviation_table['Assessor'].map(namedict(question_two))"
   ]
  },
  {
   "cell_type": "markdown",
   "metadata": {},
   "source": [
    "#### Continue for Question 3 Table:"
   ]
  },
  {
   "cell_type": "code",
   "execution_count": 34,
   "metadata": {},
   "outputs": [],
   "source": [
    "# necessary transformations for table 3\n",
    "question_three_a = question_three.copy()\n",
    "question_three_b = question_three.copy()\n",
    "\n",
    "del question_three_a['Assesor B']\n",
    "del question_three_a[\"2b Assessor B's Score (1-5)\"]\n",
    "del question_three_b['Assesor A']\n",
    "del question_three_b[\"2b Assesor A's Score (1-5)\"]\n",
    "\n",
    "question_three_a = question_three_a.rename(columns = {\"Assesor A\": \"Assessor\", \"2b Assesor A's Score (1-5)\": \"AssessorScore\"})\n",
    "question_three_b = question_three_b.rename(columns = {\"Assesor B\": \"Assessor\", \"2b Assessor B's Score (1-5)\": \"AssessorScore\"})\n",
    "question_three = pd.concat([question_three_a, question_three_b], axis = 0, ignore_index = True)"
   ]
  },
  {
   "cell_type": "code",
   "execution_count": 35,
   "metadata": {},
   "outputs": [],
   "source": [
    "q_three_scores = question_three.iloc[:, [2, 3, 4]].copy()\n",
    "logcount(q_three_scores)"
   ]
  },
  {
   "cell_type": "code",
   "execution_count": 36,
   "metadata": {},
   "outputs": [
    {
     "data": {
      "text/plain": [
       "4.882801922586371"
      ]
     },
     "execution_count": 36,
     "metadata": {},
     "output_type": "execute_result"
    }
   ],
   "source": [
    "np.log(132)"
   ]
  },
  {
   "cell_type": "code",
   "execution_count": 37,
   "metadata": {},
   "outputs": [
    {
     "data": {
      "text/html": [
       "<div>\n",
       "<style scoped>\n",
       "    .dataframe tbody tr th:only-of-type {\n",
       "        vertical-align: middle;\n",
       "    }\n",
       "\n",
       "    .dataframe tbody tr th {\n",
       "        vertical-align: top;\n",
       "    }\n",
       "\n",
       "    .dataframe thead th {\n",
       "        text-align: right;\n",
       "    }\n",
       "</style>\n",
       "<table border=\"1\" class=\"dataframe\">\n",
       "  <thead>\n",
       "    <tr style=\"text-align: right;\">\n",
       "      <th></th>\n",
       "      <th>AssessorScore</th>\n",
       "      <th>WordCount</th>\n",
       "      <th>AverageScore</th>\n",
       "      <th>LogCount</th>\n",
       "    </tr>\n",
       "  </thead>\n",
       "  <tbody>\n",
       "    <tr>\n",
       "      <th>0</th>\n",
       "      <td>2</td>\n",
       "      <td>132.0</td>\n",
       "      <td>2.0</td>\n",
       "      <td>4.882802</td>\n",
       "    </tr>\n",
       "    <tr>\n",
       "      <th>1</th>\n",
       "      <td>1</td>\n",
       "      <td>137.0</td>\n",
       "      <td>1.5</td>\n",
       "      <td>4.919981</td>\n",
       "    </tr>\n",
       "    <tr>\n",
       "      <th>2</th>\n",
       "      <td>1</td>\n",
       "      <td>79.0</td>\n",
       "      <td>1.0</td>\n",
       "      <td>4.369448</td>\n",
       "    </tr>\n",
       "    <tr>\n",
       "      <th>3</th>\n",
       "      <td>2</td>\n",
       "      <td>74.0</td>\n",
       "      <td>2.0</td>\n",
       "      <td>4.304065</td>\n",
       "    </tr>\n",
       "    <tr>\n",
       "      <th>4</th>\n",
       "      <td>4</td>\n",
       "      <td>125.0</td>\n",
       "      <td>3.5</td>\n",
       "      <td>4.828314</td>\n",
       "    </tr>\n",
       "    <tr>\n",
       "      <th>...</th>\n",
       "      <td>...</td>\n",
       "      <td>...</td>\n",
       "      <td>...</td>\n",
       "      <td>...</td>\n",
       "    </tr>\n",
       "    <tr>\n",
       "      <th>131</th>\n",
       "      <td>4</td>\n",
       "      <td>170.0</td>\n",
       "      <td>4.0</td>\n",
       "      <td>5.135798</td>\n",
       "    </tr>\n",
       "    <tr>\n",
       "      <th>132</th>\n",
       "      <td>1</td>\n",
       "      <td>11.0</td>\n",
       "      <td>1.0</td>\n",
       "      <td>2.397895</td>\n",
       "    </tr>\n",
       "    <tr>\n",
       "      <th>133</th>\n",
       "      <td>1</td>\n",
       "      <td>1.0</td>\n",
       "      <td>1.0</td>\n",
       "      <td>0.000000</td>\n",
       "    </tr>\n",
       "    <tr>\n",
       "      <th>134</th>\n",
       "      <td>5</td>\n",
       "      <td>303.0</td>\n",
       "      <td>4.0</td>\n",
       "      <td>5.713733</td>\n",
       "    </tr>\n",
       "    <tr>\n",
       "      <th>135</th>\n",
       "      <td>5</td>\n",
       "      <td>190.0</td>\n",
       "      <td>4.0</td>\n",
       "      <td>5.247024</td>\n",
       "    </tr>\n",
       "  </tbody>\n",
       "</table>\n",
       "<p>136 rows × 4 columns</p>\n",
       "</div>"
      ],
      "text/plain": [
       "     AssessorScore  WordCount  AverageScore  LogCount\n",
       "0                2      132.0           2.0  4.882802\n",
       "1                1      137.0           1.5  4.919981\n",
       "2                1       79.0           1.0  4.369448\n",
       "3                2       74.0           2.0  4.304065\n",
       "4                4      125.0           3.5  4.828314\n",
       "..             ...        ...           ...       ...\n",
       "131              4      170.0           4.0  5.135798\n",
       "132              1       11.0           1.0  2.397895\n",
       "133              1        1.0           1.0  0.000000\n",
       "134              5      303.0           4.0  5.713733\n",
       "135              5      190.0           4.0  5.247024\n",
       "\n",
       "[136 rows x 4 columns]"
      ]
     },
     "execution_count": 37,
     "metadata": {},
     "output_type": "execute_result"
    }
   ],
   "source": [
    "q_three_scores"
   ]
  },
  {
   "cell_type": "code",
   "execution_count": 38,
   "metadata": {},
   "outputs": [
    {
     "data": {
      "image/png": "[encoded data removed]",
      "text/plain": [
       "<Figure size 432x288 with 1 Axes>"
      ]
     },
     "metadata": {
      "needs_background": "light"
     },
     "output_type": "display_data"
    }
   ],
   "source": [
    "X = q_three_scores['LogCount'].values.reshape(-1, 1)\n",
    "Y = q_three_scores['AssessorScore'].values.reshape(-1, 1)\n",
    "regressquestion(q_three_scores)"
   ]
  },
  {
   "cell_type": "code",
   "execution_count": 39,
   "metadata": {},
   "outputs": [
    {
     "name": "stdout",
     "output_type": "stream",
     "text": [
      "                            OLS Regression Results                            \n",
      "==============================================================================\n",
      "Dep. Variable:                      y   R-squared:                       0.362\n",
      "Model:                            OLS   Adj. R-squared:                  0.357\n",
      "Method:                 Least Squares   F-statistic:                     76.05\n",
      "Date:                Wed, 21 Jul 2021   Prob (F-statistic):           9.41e-15\n",
      "Time:                        22:05:41   Log-Likelihood:                -195.40\n",
      "No. Observations:                 136   AIC:                             394.8\n",
      "Df Residuals:                     134   BIC:                             400.6\n",
      "Df Model:                           1                                         \n",
      "Covariance Type:            nonrobust                                         \n",
      "==============================================================================\n",
      "                 coef    std err          t      P>|t|      [0.025      0.975]\n",
      "------------------------------------------------------------------------------\n",
      "const         -0.1863      0.373     -0.499      0.619      -0.925       0.552\n",
      "x1             0.6677      0.077      8.720      0.000       0.516       0.819\n",
      "==============================================================================\n",
      "Omnibus:                       10.810   Durbin-Watson:                   1.659\n",
      "Prob(Omnibus):                  0.004   Jarque-Bera (JB):                4.519\n",
      "Skew:                          -0.155   Prob(JB):                        0.104\n",
      "Kurtosis:                       2.163   Cond. No.                         21.5\n",
      "==============================================================================\n",
      "\n",
      "Notes:\n",
      "[1] Standard Errors assume that the covariance matrix of the errors is correctly specified.\n"
     ]
    }
   ],
   "source": [
    "regressionstats(X, Y)"
   ]
  },
  {
   "cell_type": "code",
   "execution_count": 40,
   "metadata": {},
   "outputs": [],
   "source": [
    "slope, intercept, r_value, p_value, std_err = stats.linregress(X[:,0], Y[:,0])\n",
    "\n",
    "predictedscore(question_three, slope, intercept)\n",
    "weightedscore(question_three)\n",
    "adjustedscore(question_three)\n",
    "assessordeviation(question_three, std_err)\n",
    "\n",
    "deviation_table['q2b'] = deviation_table['Assessor'].map(namedict(question_three))"
   ]
  },
  {
   "cell_type": "markdown",
   "metadata": {},
   "source": [
    "#### Continue for Question 4 Table:"
   ]
  },
  {
   "cell_type": "code",
   "execution_count": 41,
   "metadata": {},
   "outputs": [],
   "source": [
    "# necessary transformations for table 4\n",
    "question_four_a = question_four.copy()\n",
    "question_four_b = question_four.copy()\n",
    "\n",
    "del question_four_a['Assesor B']\n",
    "del question_four_a[\"2c Assessor B's Score (1-5)\"]\n",
    "del question_four_b['Assesor A']\n",
    "del question_four_b[\"2c Assesor A's Score (1-5)\"]\n",
    "\n",
    "question_four_a = question_four_a.rename(columns = {\"Assesor A\": \"Assessor\", \"2c Assesor A's Score (1-5)\": \"AssessorScore\"})\n",
    "question_four_b = question_four_b.rename(columns = {\"Assesor B\": \"Assessor\", \"2c Assessor B's Score (1-5)\": \"AssessorScore\"})\n",
    "question_four = pd.concat([question_four_a, question_four_b], axis = 0, ignore_index = True)"
   ]
  },
  {
   "cell_type": "code",
   "execution_count": 42,
   "metadata": {},
   "outputs": [],
   "source": [
    "q_four_scores = question_four.iloc[:, [2, 3, 4]].copy()\n",
    "logcount(q_four_scores)"
   ]
  },
  {
   "cell_type": "code",
   "execution_count": 43,
   "metadata": {},
   "outputs": [
    {
     "data": {
      "image/png": "[encoded data removed]",
      "text/plain": [
       "<Figure size 432x288 with 1 Axes>"
      ]
     },
     "metadata": {
      "needs_background": "light"
     },
     "output_type": "display_data"
    }
   ],
   "source": [
    "X = q_four_scores['LogCount'].values.reshape(-1, 1)\n",
    "Y = q_four_scores['AssessorScore'].values.reshape(-1, 1)\n",
    "regressquestion(q_four_scores)"
   ]
  },
  {
   "cell_type": "code",
   "execution_count": 44,
   "metadata": {},
   "outputs": [
    {
     "name": "stdout",
     "output_type": "stream",
     "text": [
      "                            OLS Regression Results                            \n",
      "==============================================================================\n",
      "Dep. Variable:                      y   R-squared:                       0.465\n",
      "Model:                            OLS   Adj. R-squared:                  0.461\n",
      "Method:                 Least Squares   F-statistic:                     116.4\n",
      "Date:                Wed, 21 Jul 2021   Prob (F-statistic):           6.49e-20\n",
      "Time:                        22:05:41   Log-Likelihood:                -182.95\n",
      "No. Observations:                 136   AIC:                             369.9\n",
      "Df Residuals:                     134   BIC:                             375.7\n",
      "Df Model:                           1                                         \n",
      "Covariance Type:            nonrobust                                         \n",
      "==============================================================================\n",
      "                 coef    std err          t      P>|t|      [0.025      0.975]\n",
      "------------------------------------------------------------------------------\n",
      "const         -0.5260      0.330     -1.594      0.113      -1.179       0.127\n",
      "x1             0.7684      0.071     10.787      0.000       0.628       0.909\n",
      "==============================================================================\n",
      "Omnibus:                        6.745   Durbin-Watson:                   1.642\n",
      "Prob(Omnibus):                  0.034   Jarque-Bera (JB):                3.298\n",
      "Skew:                          -0.094   Prob(JB):                        0.192\n",
      "Kurtosis:                       2.261   Cond. No.                         19.9\n",
      "==============================================================================\n",
      "\n",
      "Notes:\n",
      "[1] Standard Errors assume that the covariance matrix of the errors is correctly specified.\n"
     ]
    }
   ],
   "source": [
    "regressionstats(X, Y)"
   ]
  },
  {
   "cell_type": "code",
   "execution_count": 45,
   "metadata": {},
   "outputs": [],
   "source": [
    "slope, intercept, r_value, p_value, std_err = stats.linregress(X[:,0], Y[:,0])\n",
    "\n",
    "predictedscore(question_four, slope, intercept)\n",
    "weightedscore(question_four)\n",
    "adjustedscore(question_four)\n",
    "assessordeviation(question_four, std_err)\n",
    "\n",
    "deviation_table['q2c'] = deviation_table['Assessor'].map(namedict(question_four))"
   ]
  },
  {
   "cell_type": "markdown",
   "metadata": {},
   "source": [
    "#### Continue for Question 5 Table:"
   ]
  },
  {
   "cell_type": "code",
   "execution_count": 46,
   "metadata": {},
   "outputs": [],
   "source": [
    "# necessary transformations for table 5\n",
    "question_five_a = question_five.copy()\n",
    "question_five_b = question_five.copy()\n",
    "\n",
    "del question_five_a['Assesor B']\n",
    "del question_five_a[\"2f Assessor B's Score (1-5)\"]\n",
    "del question_five_b['Assesor A']\n",
    "del question_five_b[\"2f Assesor A's Score (1-5)\"]\n",
    "\n",
    "question_five_a = question_five_a.rename(columns = {\"Assesor A\": \"Assessor\", \"2f Assesor A's Score (1-5)\": \"AssessorScore\"})\n",
    "question_five_b = question_five_b.rename(columns = {\"Assesor B\": \"Assessor\", \"2f Assessor B's Score (1-5)\": \"AssessorScore\"})\n",
    "question_five = pd.concat([question_five_a, question_five_b], axis = 0, ignore_index = True)"
   ]
  },
  {
   "cell_type": "code",
   "execution_count": 47,
   "metadata": {},
   "outputs": [],
   "source": [
    "q_five_scores = question_five.iloc[:, [2, 3, 4]].copy()\n",
    "logcount(q_five_scores)"
   ]
  },
  {
   "cell_type": "code",
   "execution_count": 48,
   "metadata": {},
   "outputs": [
    {
     "data": {
      "image/png": "[encoded data removed]",
      "text/plain": [
       "<Figure size 432x288 with 1 Axes>"
      ]
     },
     "metadata": {
      "needs_background": "light"
     },
     "output_type": "display_data"
    }
   ],
   "source": [
    "X = q_five_scores['LogCount'].values.reshape(-1, 1)\n",
    "Y = q_five_scores['AssessorScore'].values.reshape(-1, 1)\n",
    "regressquestion(q_five_scores)"
   ]
  },
  {
   "cell_type": "code",
   "execution_count": 49,
   "metadata": {},
   "outputs": [],
   "source": [
    "slope, intercept, r_value, p_value, std_err = stats.linregress(X[:,0], Y[:,0])\n",
    "\n",
    "predictedscore(question_five, slope, intercept)\n",
    "weightedscore(question_five)\n",
    "adjustedscore(question_five)\n",
    "assessordeviation(question_five, std_err)\n",
    "\n",
    "deviation_table['q2f'] = deviation_table['Assessor'].map(namedict(question_five))"
   ]
  },
  {
   "cell_type": "markdown",
   "metadata": {},
   "source": [
    "#### Continue for Question 6 Table:"
   ]
  },
  {
   "cell_type": "code",
   "execution_count": 50,
   "metadata": {},
   "outputs": [],
   "source": [
    "# necessary transformations for table 6\n",
    "question_six_a = question_six.copy()\n",
    "question_six_b = question_six.copy()\n",
    "\n",
    "del question_six_a['Assesor B']\n",
    "del question_six_a[\"2g Assessor B's Score (1-5)\"]\n",
    "del question_six_b['Assesor A']\n",
    "del question_six_b[\"2g Assesor A's Score (1-5)\"]\n",
    "\n",
    "question_six_a = question_six_a.rename(columns = {\"Assesor A\": \"Assessor\", \"2g Assesor A's Score (1-5)\": \"AssessorScore\"})\n",
    "question_six_b = question_six_b.rename(columns = {\"Assesor B\": \"Assessor\", \"2g Assessor B's Score (1-5)\": \"AssessorScore\"})\n",
    "question_six = pd.concat([question_six_a, question_six_b], axis = 0, ignore_index = True)"
   ]
  },
  {
   "cell_type": "code",
   "execution_count": 51,
   "metadata": {},
   "outputs": [],
   "source": [
    "q_six_scores = question_six.iloc[:, [2, 3, 4]].copy()\n",
    "logcount(q_six_scores)"
   ]
  },
  {
   "cell_type": "code",
   "execution_count": 52,
   "metadata": {},
   "outputs": [
    {
     "data": {
      "image/png": "[encoded data removed]",
      "text/plain": [
       "<Figure size 432x288 with 1 Axes>"
      ]
     },
     "metadata": {
      "needs_background": "light"
     },
     "output_type": "display_data"
    }
   ],
   "source": [
    "X = q_six_scores['LogCount'].values.reshape(-1, 1)\n",
    "Y = q_six_scores['AssessorScore'].values.reshape(-1, 1)\n",
    "regressquestion(q_six_scores)"
   ]
  },
  {
   "cell_type": "code",
   "execution_count": 53,
   "metadata": {},
   "outputs": [
    {
     "name": "stdout",
     "output_type": "stream",
     "text": [
      "                            OLS Regression Results                            \n",
      "==============================================================================\n",
      "Dep. Variable:                      y   R-squared:                       0.435\n",
      "Model:                            OLS   Adj. R-squared:                  0.430\n",
      "Method:                 Least Squares   F-statistic:                     103.0\n",
      "Date:                Wed, 21 Jul 2021   Prob (F-statistic):           2.61e-18\n",
      "Time:                        22:05:42   Log-Likelihood:                -179.69\n",
      "No. Observations:                 136   AIC:                             363.4\n",
      "Df Residuals:                     134   BIC:                             369.2\n",
      "Df Model:                           1                                         \n",
      "Covariance Type:            nonrobust                                         \n",
      "==============================================================================\n",
      "                 coef    std err          t      P>|t|      [0.025      0.975]\n",
      "------------------------------------------------------------------------------\n",
      "const          0.1497      0.294      0.509      0.612      -0.432       0.732\n",
      "x1             0.7025      0.069     10.151      0.000       0.566       0.839\n",
      "==============================================================================\n",
      "Omnibus:                        1.589   Durbin-Watson:                   1.741\n",
      "Prob(Omnibus):                  0.452   Jarque-Bera (JB):                1.571\n",
      "Skew:                          -0.180   Prob(JB):                        0.456\n",
      "Kurtosis:                       2.615   Cond. No.                         16.8\n",
      "==============================================================================\n",
      "\n",
      "Notes:\n",
      "[1] Standard Errors assume that the covariance matrix of the errors is correctly specified.\n"
     ]
    }
   ],
   "source": [
    "regressionstats(X, Y)"
   ]
  },
  {
   "cell_type": "code",
   "execution_count": 54,
   "metadata": {},
   "outputs": [
    {
     "data": {
      "text/html": [
       "<div>\n",
       "<style scoped>\n",
       "    .dataframe tbody tr th:only-of-type {\n",
       "        vertical-align: middle;\n",
       "    }\n",
       "\n",
       "    .dataframe tbody tr th {\n",
       "        vertical-align: top;\n",
       "    }\n",
       "\n",
       "    .dataframe thead th {\n",
       "        text-align: right;\n",
       "    }\n",
       "</style>\n",
       "<table border=\"1\" class=\"dataframe\">\n",
       "  <thead>\n",
       "    <tr style=\"text-align: right;\">\n",
       "      <th></th>\n",
       "      <th>Assessor</th>\n",
       "      <th>q1i</th>\n",
       "      <th>q2a</th>\n",
       "      <th>q2b</th>\n",
       "      <th>q2c</th>\n",
       "      <th>q2f</th>\n",
       "      <th>q2g</th>\n",
       "    </tr>\n",
       "  </thead>\n",
       "  <tbody>\n",
       "    <tr>\n",
       "      <th>0</th>\n",
       "      <td>Nich</td>\n",
       "      <td>7.270132</td>\n",
       "      <td>5.366830</td>\n",
       "      <td>2.342444</td>\n",
       "      <td>4.332931</td>\n",
       "      <td>9.396993</td>\n",
       "      <td>3.167916</td>\n",
       "    </tr>\n",
       "    <tr>\n",
       "      <th>1</th>\n",
       "      <td>Benedict Chong</td>\n",
       "      <td>12.600338</td>\n",
       "      <td>8.024459</td>\n",
       "      <td>2.847475</td>\n",
       "      <td>4.236378</td>\n",
       "      <td>5.757336</td>\n",
       "      <td>5.160058</td>\n",
       "    </tr>\n",
       "    <tr>\n",
       "      <th>2</th>\n",
       "      <td>Chia Ler</td>\n",
       "      <td>16.843734</td>\n",
       "      <td>6.389468</td>\n",
       "      <td>9.660630</td>\n",
       "      <td>10.046053</td>\n",
       "      <td>9.871041</td>\n",
       "      <td>6.194411</td>\n",
       "    </tr>\n",
       "    <tr>\n",
       "      <th>3</th>\n",
       "      <td>Clarence Ong</td>\n",
       "      <td>1.837752</td>\n",
       "      <td>-0.779427</td>\n",
       "      <td>5.091439</td>\n",
       "      <td>4.549974</td>\n",
       "      <td>-0.311588</td>\n",
       "      <td>6.905051</td>\n",
       "    </tr>\n",
       "    <tr>\n",
       "      <th>4</th>\n",
       "      <td>Tan Jie Hui</td>\n",
       "      <td>16.110240</td>\n",
       "      <td>7.525580</td>\n",
       "      <td>5.452234</td>\n",
       "      <td>5.239633</td>\n",
       "      <td>5.142086</td>\n",
       "      <td>10.122119</td>\n",
       "    </tr>\n",
       "    <tr>\n",
       "      <th>5</th>\n",
       "      <td>Mike Sun</td>\n",
       "      <td>-0.225030</td>\n",
       "      <td>7.158389</td>\n",
       "      <td>6.567679</td>\n",
       "      <td>6.227853</td>\n",
       "      <td>1.920856</td>\n",
       "      <td>5.355938</td>\n",
       "    </tr>\n",
       "    <tr>\n",
       "      <th>6</th>\n",
       "      <td>Jaryl Lim</td>\n",
       "      <td>20.262202</td>\n",
       "      <td>16.215437</td>\n",
       "      <td>16.934236</td>\n",
       "      <td>16.294553</td>\n",
       "      <td>14.094713</td>\n",
       "      <td>19.966489</td>\n",
       "    </tr>\n",
       "    <tr>\n",
       "      <th>7</th>\n",
       "      <td>Rahul Paleja</td>\n",
       "      <td>18.971441</td>\n",
       "      <td>8.190969</td>\n",
       "      <td>17.779673</td>\n",
       "      <td>14.029151</td>\n",
       "      <td>19.638807</td>\n",
       "      <td>11.759899</td>\n",
       "    </tr>\n",
       "    <tr>\n",
       "      <th>8</th>\n",
       "      <td>Jarod Hong</td>\n",
       "      <td>12.553164</td>\n",
       "      <td>10.885206</td>\n",
       "      <td>11.851993</td>\n",
       "      <td>10.053419</td>\n",
       "      <td>8.280440</td>\n",
       "      <td>7.902078</td>\n",
       "    </tr>\n",
       "    <tr>\n",
       "      <th>9</th>\n",
       "      <td>Wang Dong Yue</td>\n",
       "      <td>-0.693625</td>\n",
       "      <td>4.004939</td>\n",
       "      <td>6.891002</td>\n",
       "      <td>14.603950</td>\n",
       "      <td>5.825914</td>\n",
       "      <td>2.913975</td>\n",
       "    </tr>\n",
       "    <tr>\n",
       "      <th>10</th>\n",
       "      <td>Keith Tan</td>\n",
       "      <td>6.076177</td>\n",
       "      <td>6.688687</td>\n",
       "      <td>4.879866</td>\n",
       "      <td>6.241299</td>\n",
       "      <td>4.457494</td>\n",
       "      <td>5.135553</td>\n",
       "    </tr>\n",
       "    <tr>\n",
       "      <th>11</th>\n",
       "      <td>Yuan Khai Qi</td>\n",
       "      <td>16.341406</td>\n",
       "      <td>13.705847</td>\n",
       "      <td>9.373712</td>\n",
       "      <td>11.463748</td>\n",
       "      <td>14.685281</td>\n",
       "      <td>16.102046</td>\n",
       "    </tr>\n",
       "    <tr>\n",
       "      <th>12</th>\n",
       "      <td>Zhang Shenjia</td>\n",
       "      <td>6.475148</td>\n",
       "      <td>-0.403622</td>\n",
       "      <td>-1.019011</td>\n",
       "      <td>-2.383711</td>\n",
       "      <td>-8.963599</td>\n",
       "      <td>-5.617819</td>\n",
       "    </tr>\n",
       "    <tr>\n",
       "      <th>13</th>\n",
       "      <td>Justin Peh</td>\n",
       "      <td>5.870732</td>\n",
       "      <td>9.533815</td>\n",
       "      <td>4.747561</td>\n",
       "      <td>7.585562</td>\n",
       "      <td>8.347573</td>\n",
       "      <td>-2.116080</td>\n",
       "    </tr>\n",
       "    <tr>\n",
       "      <th>14</th>\n",
       "      <td>Yap Tzi Richard</td>\n",
       "      <td>-6.362362</td>\n",
       "      <td>-2.796365</td>\n",
       "      <td>-0.692717</td>\n",
       "      <td>1.619688</td>\n",
       "      <td>-0.480345</td>\n",
       "      <td>7.308822</td>\n",
       "    </tr>\n",
       "    <tr>\n",
       "      <th>15</th>\n",
       "      <td>Marcus Wan</td>\n",
       "      <td>7.270132</td>\n",
       "      <td>10.276351</td>\n",
       "      <td>2.342444</td>\n",
       "      <td>4.332931</td>\n",
       "      <td>9.396993</td>\n",
       "      <td>11.838193</td>\n",
       "    </tr>\n",
       "    <tr>\n",
       "      <th>16</th>\n",
       "      <td>Mak Wei Zheng</td>\n",
       "      <td>30.265126</td>\n",
       "      <td>20.298262</td>\n",
       "      <td>18.520881</td>\n",
       "      <td>26.698334</td>\n",
       "      <td>20.509674</td>\n",
       "      <td>10.940243</td>\n",
       "    </tr>\n",
       "    <tr>\n",
       "      <th>17</th>\n",
       "      <td>Ruiqing Xu</td>\n",
       "      <td>8.011340</td>\n",
       "      <td>6.389468</td>\n",
       "      <td>9.660630</td>\n",
       "      <td>10.046053</td>\n",
       "      <td>9.871041</td>\n",
       "      <td>9.084503</td>\n",
       "    </tr>\n",
       "    <tr>\n",
       "      <th>18</th>\n",
       "      <td>Nathaniel Ling</td>\n",
       "      <td>6.253949</td>\n",
       "      <td>1.675334</td>\n",
       "      <td>5.091439</td>\n",
       "      <td>1.742229</td>\n",
       "      <td>7.064581</td>\n",
       "      <td>12.685235</td>\n",
       "    </tr>\n",
       "    <tr>\n",
       "      <th>19</th>\n",
       "      <td>Tee Zhi Zhang</td>\n",
       "      <td>16.110240</td>\n",
       "      <td>12.435101</td>\n",
       "      <td>8.064468</td>\n",
       "      <td>5.239633</td>\n",
       "      <td>16.206340</td>\n",
       "      <td>4.341935</td>\n",
       "    </tr>\n",
       "    <tr>\n",
       "      <th>20</th>\n",
       "      <td>Benedict Ng</td>\n",
       "      <td>-0.225030</td>\n",
       "      <td>7.158389</td>\n",
       "      <td>3.955445</td>\n",
       "      <td>6.227853</td>\n",
       "      <td>5.608941</td>\n",
       "      <td>2.465846</td>\n",
       "    </tr>\n",
       "    <tr>\n",
       "      <th>21</th>\n",
       "      <td>Darius Cheong</td>\n",
       "      <td>23.387638</td>\n",
       "      <td>13.100490</td>\n",
       "      <td>9.942970</td>\n",
       "      <td>5.605917</td>\n",
       "      <td>15.950722</td>\n",
       "      <td>20.430176</td>\n",
       "    </tr>\n",
       "    <tr>\n",
       "      <th>22</th>\n",
       "      <td>Darius Teo</td>\n",
       "      <td>8.437114</td>\n",
       "      <td>4.222417</td>\n",
       "      <td>18.560361</td>\n",
       "      <td>12.781043</td>\n",
       "      <td>5.622704</td>\n",
       "      <td>10.884642</td>\n",
       "    </tr>\n",
       "    <tr>\n",
       "      <th>23</th>\n",
       "      <td>Gordon Ng</td>\n",
       "      <td>-11.734118</td>\n",
       "      <td>0.936488</td>\n",
       "      <td>13.421588</td>\n",
       "      <td>11.094269</td>\n",
       "      <td>15.046125</td>\n",
       "      <td>10.139206</td>\n",
       "    </tr>\n",
       "    <tr>\n",
       "      <th>24</th>\n",
       "      <td>Ho Banshen</td>\n",
       "      <td>6.076177</td>\n",
       "      <td>6.688687</td>\n",
       "      <td>1.614573</td>\n",
       "      <td>2.731618</td>\n",
       "      <td>4.457494</td>\n",
       "      <td>5.135553</td>\n",
       "    </tr>\n",
       "    <tr>\n",
       "      <th>25</th>\n",
       "      <td>Howe Lau</td>\n",
       "      <td>10.821159</td>\n",
       "      <td>-1.636407</td>\n",
       "      <td>2.843126</td>\n",
       "      <td>7.954067</td>\n",
       "      <td>0.854964</td>\n",
       "      <td>-5.573645</td>\n",
       "    </tr>\n",
       "    <tr>\n",
       "      <th>26</th>\n",
       "      <td>Siao-Wei Chia</td>\n",
       "      <td>6.475148</td>\n",
       "      <td>-0.403622</td>\n",
       "      <td>5.511574</td>\n",
       "      <td>11.655012</td>\n",
       "      <td>32.527352</td>\n",
       "      <td>19.670488</td>\n",
       "    </tr>\n",
       "    <tr>\n",
       "      <th>27</th>\n",
       "      <td>Noel Tan</td>\n",
       "      <td>0.350485</td>\n",
       "      <td>3.396913</td>\n",
       "      <td>8.012854</td>\n",
       "      <td>7.585562</td>\n",
       "      <td>8.347573</td>\n",
       "      <td>19.559612</td>\n",
       "    </tr>\n",
       "    <tr>\n",
       "      <th>28</th>\n",
       "      <td>Wong Xin Hui</td>\n",
       "      <td>10.198377</td>\n",
       "      <td>6.408987</td>\n",
       "      <td>12.368455</td>\n",
       "      <td>8.639049</td>\n",
       "      <td>8.739867</td>\n",
       "      <td>14.534053</td>\n",
       "    </tr>\n",
       "  </tbody>\n",
       "</table>\n",
       "</div>"
      ],
      "text/plain": [
       "           Assessor        q1i        q2a        q2b        q2c        q2f  \\\n",
       "0              Nich   7.270132   5.366830   2.342444   4.332931   9.396993   \n",
       "1    Benedict Chong  12.600338   8.024459   2.847475   4.236378   5.757336   \n",
       "2          Chia Ler  16.843734   6.389468   9.660630  10.046053   9.871041   \n",
       "3      Clarence Ong   1.837752  -0.779427   5.091439   4.549974  -0.311588   \n",
       "4       Tan Jie Hui  16.110240   7.525580   5.452234   5.239633   5.142086   \n",
       "5          Mike Sun  -0.225030   7.158389   6.567679   6.227853   1.920856   \n",
       "6         Jaryl Lim  20.262202  16.215437  16.934236  16.294553  14.094713   \n",
       "7      Rahul Paleja  18.971441   8.190969  17.779673  14.029151  19.638807   \n",
       "8        Jarod Hong  12.553164  10.885206  11.851993  10.053419   8.280440   \n",
       "9     Wang Dong Yue  -0.693625   4.004939   6.891002  14.603950   5.825914   \n",
       "10        Keith Tan   6.076177   6.688687   4.879866   6.241299   4.457494   \n",
       "11     Yuan Khai Qi  16.341406  13.705847   9.373712  11.463748  14.685281   \n",
       "12    Zhang Shenjia   6.475148  -0.403622  -1.019011  -2.383711  -8.963599   \n",
       "13       Justin Peh   5.870732   9.533815   4.747561   7.585562   8.347573   \n",
       "14  Yap Tzi Richard  -6.362362  -2.796365  -0.692717   1.619688  -0.480345   \n",
       "15       Marcus Wan   7.270132  10.276351   2.342444   4.332931   9.396993   \n",
       "16    Mak Wei Zheng  30.265126  20.298262  18.520881  26.698334  20.509674   \n",
       "17       Ruiqing Xu   8.011340   6.389468   9.660630  10.046053   9.871041   \n",
       "18   Nathaniel Ling   6.253949   1.675334   5.091439   1.742229   7.064581   \n",
       "19    Tee Zhi Zhang  16.110240  12.435101   8.064468   5.239633  16.206340   \n",
       "20      Benedict Ng  -0.225030   7.158389   3.955445   6.227853   5.608941   \n",
       "21    Darius Cheong  23.387638  13.100490   9.942970   5.605917  15.950722   \n",
       "22       Darius Teo   8.437114   4.222417  18.560361  12.781043   5.622704   \n",
       "23        Gordon Ng -11.734118   0.936488  13.421588  11.094269  15.046125   \n",
       "24       Ho Banshen   6.076177   6.688687   1.614573   2.731618   4.457494   \n",
       "25         Howe Lau  10.821159  -1.636407   2.843126   7.954067   0.854964   \n",
       "26    Siao-Wei Chia   6.475148  -0.403622   5.511574  11.655012  32.527352   \n",
       "27         Noel Tan   0.350485   3.396913   8.012854   7.585562   8.347573   \n",
       "28     Wong Xin Hui  10.198377   6.408987  12.368455   8.639049   8.739867   \n",
       "\n",
       "          q2g  \n",
       "0    3.167916  \n",
       "1    5.160058  \n",
       "2    6.194411  \n",
       "3    6.905051  \n",
       "4   10.122119  \n",
       "5    5.355938  \n",
       "6   19.966489  \n",
       "7   11.759899  \n",
       "8    7.902078  \n",
       "9    2.913975  \n",
       "10   5.135553  \n",
       "11  16.102046  \n",
       "12  -5.617819  \n",
       "13  -2.116080  \n",
       "14   7.308822  \n",
       "15  11.838193  \n",
       "16  10.940243  \n",
       "17   9.084503  \n",
       "18  12.685235  \n",
       "19   4.341935  \n",
       "20   2.465846  \n",
       "21  20.430176  \n",
       "22  10.884642  \n",
       "23  10.139206  \n",
       "24   5.135553  \n",
       "25  -5.573645  \n",
       "26  19.670488  \n",
       "27  19.559612  \n",
       "28  14.534053  "
      ]
     },
     "execution_count": 54,
     "metadata": {},
     "output_type": "execute_result"
    }
   ],
   "source": [
    "slope, intercept, r_value, p_value, std_err = stats.linregress(X[:,0], Y[:,0])\n",
    "\n",
    "predictedscore(question_six, slope, intercept)\n",
    "weightedscore(question_six)\n",
    "adjustedscore(question_six)\n",
    "assessordeviation(question_six, std_err)\n",
    "\n",
    "deviation_table['q2g'] = deviation_table['Assessor'].map(namedict(question_six))\n",
    "deviation_table"
   ]
  },
  {
   "cell_type": "code",
   "execution_count": 55,
   "metadata": {},
   "outputs": [],
   "source": [
    "#deviation_table.to_csv(r'C:\\Users\\User\\OneDrive\\Documents\\Student Life\\Protege Ventures\\Data Science\\Recruitment\\leniency.csv', index = False)"
   ]
  }
 ],
 "metadata": {
  "kernelspec": {
   "display_name": "Python 3",
   "language": "python",
   "name": "python3"
  },
  "language_info": {
   "codemirror_mode": {
    "name": "ipython",
    "version": 3
   },
   "file_extension": ".py",
   "mimetype": "text/x-python",
   "name": "python",
   "nbconvert_exporter": "python",
   "pygments_lexer": "ipython3",
   "version": "3.8.3"
  }
 },
 "nbformat": 4,
 "nbformat_minor": 4
}
